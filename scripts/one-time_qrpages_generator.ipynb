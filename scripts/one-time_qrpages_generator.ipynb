{
 "cells": [
  {
   "cell_type": "code",
   "execution_count": 3,
   "metadata": {},
   "outputs": [],
   "source": [
    "from os import path as osp\n",
    "\n",
    "import blogger as b\n",
    "import fair"
   ]
  },
  {
   "cell_type": "code",
   "execution_count": 4,
   "metadata": {},
   "outputs": [],
   "source": [
    "sec = fair.parts\n",
    "sec.qrpages_template_path = \"one-time_qr_codes/templates/fa_IR/parts/qr_pages_triangle_template.html\"\n",
    "sec.dst_path = osp.curdir  # to make all the relative pathes valid\n",
    "sec.qr_dirname = \"one-time_qr_codes/\"\n",
    "sec.src_path = \"original_content/fa_IR/parts\"\n",
    "sec.qrpages_dirname = \"one-time_qr_codes/pages\"\n",
    "# sec.custom_qr_table_writer is now already set in fair.parts\n",
    "b.qr_generator(\n",
    "    sec,\n",
    "    # The default qr_img_generator recursively looks for all html files in dst_path,\n",
    "    # which in here can lead to unwanted qr generation for the template files\n",
    "    # + qr generation have to be done already and the selected qr codes for a quick\n",
    "    # one-time qr_pages generation should have been copied manually to the 'one-time_qr_codes'\n",
    "    # before running this notebook\n",
    "    qr_imgs=False,\n",
    "    qr_pages_rows=1,\n",
    "    qr_pages_cols=4\n",
    ")"
   ]
  }
 ],
 "metadata": {
  "kernelspec": {
   "display_name": ".venv",
   "language": "python",
   "name": "python3"
  },
  "language_info": {
   "codemirror_mode": {
    "name": "ipython",
    "version": 3
   },
   "file_extension": ".py",
   "mimetype": "text/x-python",
   "name": "python",
   "nbconvert_exporter": "python",
   "pygments_lexer": "ipython3",
   "version": "3.8.10"
  }
 },
 "nbformat": 4,
 "nbformat_minor": 2
}
